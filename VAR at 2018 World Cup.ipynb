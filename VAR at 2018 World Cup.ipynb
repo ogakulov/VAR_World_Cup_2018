{
 "cells": [
  {
   "cell_type": "markdown",
   "metadata": {},
   "source": [
    "## VAR at 2018 World Cup: Python Exploration\n",
    "This notebook explores the effect of Video Assistant Referee (VAR) system in the 2018 World Cup in Russia. This was the first time VAR was used in the World Cup and it has certainly made the news on more than one occasion. The system uses multi-angle video feeds to assist referees in making the right calls during the game."
   ]
  },
  {
   "cell_type": "code",
   "execution_count": 1,
   "metadata": {
    "collapsed": true
   },
   "outputs": [],
   "source": [
    "# Import all of the usual libraries for analysis...\n",
    "import pandas as pd\n",
    "import seaborn as sns\n",
    "import matplotlib.pyplot as plt\n",
    "\n",
    "# ...set appropriate chart type for Jupyter\n",
    "%matplotlib inline\n",
    "sns.set(font_scale=1.3)\n",
    "plt.rcParams['figure.figsize'] = [14, 7]"
   ]
  },
  {
   "cell_type": "markdown",
   "metadata": {},
   "source": [
    "## The Data\n",
    "While scored penalties in all historic World Cup tournaments are readily availble from the [Guardian Data Blog](https://www.theguardian.com/news/datablog/2010/may/05/world-cup-historical-statistics#data), getting the number of awarded penalties (including missed and saved shots) has proven to be tricky. After a few hours of scouring the internet and almost resorting to watching recaps of games, I came accross an amazing resource that contains the data in text format, going back to 1930. [Linguasport](http://www.linguasport.com/) has short description of every match in the World Cup history, inclusing an easy to parse section called \"Incidents\" that includes penalty misses, saves, player names, bookings, and anything else that is out of the ordinary for each game. I've put together a dataset that captures the penalty information at an aggregate level. Since the dataset is very small and I carefully built it myself, I can dive directly into feature creation and exploration, without doing much integrity checking or cleaning."
   ]
  },
  {
   "cell_type": "code",
   "execution_count": 2,
   "metadata": {},
   "outputs": [
    {
     "data": {
      "text/html": [
       "<div>\n",
       "<style>\n",
       "    .dataframe thead tr:only-child th {\n",
       "        text-align: right;\n",
       "    }\n",
       "\n",
       "    .dataframe thead th {\n",
       "        text-align: left;\n",
       "    }\n",
       "\n",
       "    .dataframe tbody tr th {\n",
       "        vertical-align: top;\n",
       "    }\n",
       "</style>\n",
       "<table border=\"1\" class=\"dataframe\">\n",
       "  <thead>\n",
       "    <tr style=\"text-align: right;\">\n",
       "      <th></th>\n",
       "      <th>Year</th>\n",
       "      <th>Host</th>\n",
       "      <th>MatchesPlayed</th>\n",
       "      <th>PenaltiesScored</th>\n",
       "      <th>PenaltiesAwarded</th>\n",
       "      <th>PenaltiesSaved</th>\n",
       "      <th>PenaltiesMissed</th>\n",
       "    </tr>\n",
       "  </thead>\n",
       "  <tbody>\n",
       "    <tr>\n",
       "      <th>0</th>\n",
       "      <td>1930</td>\n",
       "      <td>Uruguay</td>\n",
       "      <td>18</td>\n",
       "      <td>1</td>\n",
       "      <td>4</td>\n",
       "      <td>3</td>\n",
       "      <td>0</td>\n",
       "    </tr>\n",
       "    <tr>\n",
       "      <th>1</th>\n",
       "      <td>1934</td>\n",
       "      <td>Italy</td>\n",
       "      <td>17</td>\n",
       "      <td>3</td>\n",
       "      <td>5</td>\n",
       "      <td>1</td>\n",
       "      <td>1</td>\n",
       "    </tr>\n",
       "    <tr>\n",
       "      <th>2</th>\n",
       "      <td>1938</td>\n",
       "      <td>France</td>\n",
       "      <td>18</td>\n",
       "      <td>3</td>\n",
       "      <td>5</td>\n",
       "      <td>1</td>\n",
       "      <td>1</td>\n",
       "    </tr>\n",
       "    <tr>\n",
       "      <th>3</th>\n",
       "      <td>1950</td>\n",
       "      <td>Brazil</td>\n",
       "      <td>22</td>\n",
       "      <td>3</td>\n",
       "      <td>3</td>\n",
       "      <td>0</td>\n",
       "      <td>0</td>\n",
       "    </tr>\n",
       "    <tr>\n",
       "      <th>4</th>\n",
       "      <td>1954</td>\n",
       "      <td>Switzerland</td>\n",
       "      <td>26</td>\n",
       "      <td>7</td>\n",
       "      <td>7</td>\n",
       "      <td>0</td>\n",
       "      <td>1</td>\n",
       "    </tr>\n",
       "  </tbody>\n",
       "</table>\n",
       "</div>"
      ],
      "text/plain": [
       "   Year         Host  MatchesPlayed  PenaltiesScored  PenaltiesAwarded  \\\n",
       "0  1930      Uruguay             18                1                 4   \n",
       "1  1934        Italy             17                3                 5   \n",
       "2  1938       France             18                3                 5   \n",
       "3  1950       Brazil             22                3                 3   \n",
       "4  1954  Switzerland             26                7                 7   \n",
       "\n",
       "   PenaltiesSaved  PenaltiesMissed  \n",
       "0               3                0  \n",
       "1               1                1  \n",
       "2               1                1  \n",
       "3               0                0  \n",
       "4               0                1  "
      ]
     },
     "execution_count": 2,
     "metadata": {},
     "output_type": "execute_result"
    }
   ],
   "source": [
    "penData = pd.read_csv('penalties_stats_aa.csv')\n",
    "penData.head()"
   ]
  },
  {
   "cell_type": "markdown",
   "metadata": {},
   "source": [
    "## Penalties per Match\n",
    "First, we can see the that number of penalties has been increasing since the original 1930 tournament. However, this is simply due to the fact that much fewer games were played back then compared to modern format (18 games in 1930 vs. 64 games this year). \n",
    "I will create a variable that takes number of games into account, call it *PenaltiesPerMatch*. Creating a barplot of that variable indicates that the 2018 World Cup had a penalty almost every two games - a rate that has never been seen before in the tournament."
   ]
  },
  {
   "cell_type": "code",
   "execution_count": 4,
   "metadata": {},
   "outputs": [
    {
     "data": {
      "image/png": "[encoded data removed]",
      "text/plain": [
       "<matplotlib.figure.Figure at 0x28df9e1efd0>"
      ]
     },
     "metadata": {},
     "output_type": "display_data"
    }
   ],
   "source": [
    "penData['PenaltiesPerMatch'] = penData['PenaltiesAwarded']/penData['MatchesPlayed']\n",
    "sns.barplot(x='Year', y='PenaltiesPerMatch', data=penData, ci=None, palette=['skyblue']*(penData.shape[0]-1) + ['steelblue'])\n",
    "plt.ylabel(\"Penalties Awarded per World Cup Match\");"
   ]
  },
  {
   "cell_type": "markdown",
   "metadata": {},
   "source": [
    "The outlier is even more apparent in a boxplot, where the 2018 *PenaltiesPerMatch* are close to 3 standard deviations away from the median."
   ]
  },
  {
   "cell_type": "code",
   "execution_count": 5,
   "metadata": {},
   "outputs": [
    {
     "data": {
      "text/plain": [
       "<matplotlib.axes._subplots.AxesSubplot at 0x28dfbff6c18>"
      ]
     },
     "execution_count": 5,
     "metadata": {},
     "output_type": "execute_result"
    },
    {
     "data": {
      "image/png": "[encoded data removed]",
      "text/plain": [
       "<matplotlib.figure.Figure at 0x28dfc25d208>"
      ]
     },
     "metadata": {},
     "output_type": "display_data"
    }
   ],
   "source": [
    "sns.boxplot(penData.PenaltiesPerMatch)"
   ]
  },
  {
   "cell_type": "markdown",
   "metadata": {},
   "source": [
    "Had this been a normal distirbution (which it is not) we would have to say that the 2018 penalties awarded do not fit this distribution. No matter how we slice it, there seems to be a shift that happened this year with respect to penalties."
   ]
  },
  {
   "cell_type": "markdown",
   "metadata": {},
   "source": [
    "## Penalties due to VAR?\n",
    "Once again turning to Linguasport source and other publications, I was able to find all of the penalty instances in 2018 World Cup where the penalty kick decision was either made due to or confirmed by VAR (Source: [The Sun](https://www.thesun.co.uk/world-cup-2018/6549345/penalties-at-world-cup-2018/)). There is only a handfull of such cases:\n",
    "* Australia scored vs. Denmark - VAR-assisted decision\n",
    "* Iran scored vs. Portugal - VAR-assisted decision\n",
    "* France scored vs. Croatia - VAR-assistend decision\n",
    "* Belgium scored vs. Tunisia - VAR-assisted decision\n",
    "* France scored vs. Australia - confirmed by VAR\n",
    "* Sweden scored vs. South Korea - confirmed by VAR\n",
    "* Iceland missed vs. Nigeria - confirmed by VAR\n",
    "* Peru missed vs. Denmark - confirmed by VAR\n",
    "* Saudi Arabia saved by Egypt - confirmed by VAR"
   ]
  },
  {
   "cell_type": "markdown",
   "metadata": {},
   "source": [
    "These numbers are already included in my penalties dataset. I will only add special columns called VARScore, VARMIss, and VARSave to visualize the effect."
   ]
  },
  {
   "cell_type": "code",
   "execution_count": 6,
   "metadata": {
    "collapsed": true
   },
   "outputs": [],
   "source": [
    "penData['VARScore'] = [0]*(penData.shape[0]-1) + [6]\n",
    "penData['VARMiss'] = [0]*(penData.shape[0]-1) + [3]\n",
    "penData['VARSave'] = [0]*(penData.shape[0]-1) + [1]"
   ]
  },
  {
   "cell_type": "markdown",
   "metadata": {},
   "source": [
    "It's time to make a bold assumption... For the sake of simplicity, let's say that all of the above penalties would not have been awarded if VAR technology was not there to support the decision. Of course there were a number of penalties that were overturned by VAR, which would have the opposite effect if the tehcnology was not there. Most notably, a penalty was overtuned by VAR in the match between Costa Rica and Argentina. There was also Brazil vs Belgium and Sweden vs Switzerland (Source: [ESPN](http://www.espn.com/soccer/fifa-world-cup/4/blog/post/3533707/var-at-the-world-cup-a-timeline-of-the-tournament)).  "
   ]
  },
  {
   "cell_type": "code",
   "execution_count": 7,
   "metadata": {},
   "outputs": [
    {
     "name": "stdout",
     "output_type": "stream",
     "text": [
      "2018 Penalty Rate without VAR penalties: 0.297\n"
     ]
    }
   ],
   "source": [
    "woVARPenPerMatch = (penData.loc[20, 'PenaltiesAwarded'] - penData.iloc[20, 8:11].sum()) / penData.loc[20, 'MatchesPlayed']\n",
    "print(\"2018 Penalty Rate without VAR penalties: %.3f\" % woVARPenPerMatch)"
   ]
  },
  {
   "cell_type": "markdown",
   "metadata": {},
   "source": [
    "This is closer to a normal penalty rate and is in fact less than the penalty rate of Argentina 1978 and Italy 1990. However, with the 3 penalties that have been overturned by VAR, Russian 2018 would still have the highest rate of penalties per game, though not as dramatic."
   ]
  },
  {
   "cell_type": "code",
   "execution_count": 9,
   "metadata": {},
   "outputs": [
    {
     "data": {
      "text/html": [
       "<div>\n",
       "<style>\n",
       "    .dataframe thead tr:only-child th {\n",
       "        text-align: right;\n",
       "    }\n",
       "\n",
       "    .dataframe thead th {\n",
       "        text-align: left;\n",
       "    }\n",
       "\n",
       "    .dataframe tbody tr th {\n",
       "        vertical-align: top;\n",
       "    }\n",
       "</style>\n",
       "<table border=\"1\" class=\"dataframe\">\n",
       "  <thead>\n",
       "    <tr style=\"text-align: right;\">\n",
       "      <th></th>\n",
       "      <th>Year</th>\n",
       "      <th>Host</th>\n",
       "      <th>PenaltiesPerMatch</th>\n",
       "    </tr>\n",
       "  </thead>\n",
       "  <tbody>\n",
       "    <tr>\n",
       "      <th>10</th>\n",
       "      <td>1978</td>\n",
       "      <td>Argentian</td>\n",
       "      <td>0.368421</td>\n",
       "    </tr>\n",
       "    <tr>\n",
       "      <th>12</th>\n",
       "      <td>1986</td>\n",
       "      <td>Mexico</td>\n",
       "      <td>0.307692</td>\n",
       "    </tr>\n",
       "    <tr>\n",
       "      <th>13</th>\n",
       "      <td>1990</td>\n",
       "      <td>Italy</td>\n",
       "      <td>0.346154</td>\n",
       "    </tr>\n",
       "  </tbody>\n",
       "</table>\n",
       "</div>"
      ],
      "text/plain": [
       "    Year       Host  PenaltiesPerMatch\n",
       "10  1978  Argentian           0.368421\n",
       "12  1986     Mexico           0.307692\n",
       "13  1990      Italy           0.346154"
      ]
     },
     "execution_count": 9,
     "metadata": {},
     "output_type": "execute_result"
    }
   ],
   "source": [
    "penData[woVARPenPerMatch < penData.PenaltiesPerMatch].loc[[10, 12, 13], ['Year', 'Host', 'PenaltiesPerMatch']]"
   ]
  },
  {
   "cell_type": "code",
   "execution_count": 10,
   "metadata": {
    "collapsed": true
   },
   "outputs": [],
   "source": [
    "VARScenarios = penData.append([penData], ignore_index=True)\n",
    "VARScenarios['VARScenario'] = ['Excluding all VAR penalties']*(penData.shape[0]) + ['Include VAR-overturned penalties']*(penData.shape[0])\n",
    "VARScenarios.loc[20,'PenaltiesPerMatch'] = woVARPenPerMatch\n",
    "VARScenarios.loc[41,'PenaltiesPerMatch'] = (penData.loc[20, 'PenaltiesAwarded'] - penData.iloc[20, 8:11].sum() + 3) / penData.loc[20, 'MatchesPlayed']"
   ]
  },
  {
   "cell_type": "code",
   "execution_count": 11,
   "metadata": {},
   "outputs": [
    {
     "data": {
      "image/png": "[encoded data removed]",
      "text/plain": [
       "<matplotlib.figure.Figure at 0x28dfc069ba8>"
      ]
     },
     "metadata": {},
     "output_type": "display_data"
    }
   ],
   "source": [
    "sns.set(font_scale=1.1)\n",
    "g = sns.FacetGrid(VARScenarios, row=\"VARScenario\", aspect=3)\n",
    "g = g.map(sns.barplot, 'Year', 'PenaltiesPerMatch')"
   ]
  },
  {
   "cell_type": "markdown",
   "metadata": {},
   "source": [
    "The top bargraph shows the penalty rates if all VAR penalties are excluded from the calculation. The bottom boxplot shows the scenario where all VAR penalties are excluded, but all VAR overtuned penalties are included. \n",
    "\n",
    "In conclusion I would say that this world cup has seen an unprecendented rate of penalties. There is evidence to suggest that the increase is due to the use of VAR. Excluding VAR penalties would not make 2018 World Cup out of the ordinary, historically speaking. However, other factors (including chance) may be at play here as VAR did overturn at least 3 penalty calls which would otherwise be awarded."
   ]
  },
  {
   "cell_type": "markdown",
   "metadata": {},
   "source": [
    "## Bonus: Converted Penalties Over the Years\n",
    "\n",
    "With the available data, I can't help but ask: did teams get better at converting in-game penalties? For this I'll add two simple features, *ScoreRate* and *MissRate*, for each competition."
   ]
  },
  {
   "cell_type": "code",
   "execution_count": 12,
   "metadata": {
    "collapsed": true
   },
   "outputs": [],
   "source": [
    "penData['ScoreRate'] = penData['PenaltiesScored'] / penData['PenaltiesAwarded']\n",
    "penData['MissRate'] = (penData['PenaltiesAwarded'] - penData['PenaltiesScored']) / penData['PenaltiesAwarded']"
   ]
  },
  {
   "cell_type": "markdown",
   "metadata": {},
   "source": [
    "Plotting these in an area chart shows that up to about 1954 penalty takers did improve their strikes. Following that competition, the penalty conversion rate has stabilized around the 80% mark, on average."
   ]
  },
  {
   "cell_type": "code",
   "execution_count": 13,
   "metadata": {},
   "outputs": [
    {
     "data": {
      "image/png": "[encoded data removed]",
      "text/plain": [
       "<matplotlib.figure.Figure at 0x28dfc7ce668>"
      ]
     },
     "metadata": {},
     "output_type": "display_data"
    }
   ],
   "source": [
    "plt.stackplot(penData.Year, [penData.ScoreRate, penData.MissRate], labels=['Miss', 'Score'])\n",
    "plt.xlim(min(penData.Year),max(penData.Year))\n",
    "plt.ylim(0, 1);"
   ]
  },
  {
   "cell_type": "markdown",
   "metadata": {},
   "source": [
    "I will conclude this notebook by computing the averate penalty conversion rate from all World Cup tournaments since 1930."
   ]
  },
  {
   "cell_type": "code",
   "execution_count": 14,
   "metadata": {},
   "outputs": [
    {
     "name": "stdout",
     "output_type": "stream",
     "text": [
      "Average in-game penalty conversion rate: 79.9%\n"
     ]
    }
   ],
   "source": [
    "print(\"Average in-game penalty conversion rate: %.1f%%\" % (100*penData.ScoreRate.sum()/21))"
   ]
  }
 ],
 "metadata": {
  "kernelspec": {
   "display_name": "Python 3",
   "language": "python",
   "name": "python3"
  },
  "language_info": {
   "codemirror_mode": {
    "name": "ipython",
    "version": 3
   },
   "file_extension": ".py",
   "mimetype": "text/x-python",
   "name": "python",
   "nbconvert_exporter": "python",
   "pygments_lexer": "ipython3",
   "version": "3.6.1"
  }
 },
 "nbformat": 4,
 "nbformat_minor": 2
}
